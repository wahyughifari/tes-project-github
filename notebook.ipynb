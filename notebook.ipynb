from tabulate import tabulate

class User():
    data_membership = {
        'Sumbul': 'Platinum',
        'Ana': 'Gold',
        'Cahya': 'Platinum'
    }

    data_requirement = [
        {
            "Membership": "Platinum",
            "Expense" : 8,
            "Income" : 15
        },
        {
            "Membership": "Gold",
            "Expense" : 6,
            "Income" : 10
        },
        {
            "Membership": "Silver",
            "Expense" : 5,
            "Income" : 7
        }
    ]

    data_membership = [
        {
            "Membership": "Platinum",
            "Discount": '15%',
            "Another Benefit": "Benefit Silver + Gold + Voucher Liburan + Cashback max. 30%"
        },
        {
            "Membership": "Gold",
            "Discount": '10%',
            "Another Benefit": "Benefit Silver + Voucher Ojek Online"
        },
        {
            "Membership": "Silver",
            "Discount": '8%',
            "Another Benefit": "Voucher Makanan"
        }
    ]

    headers_requirement = list(x for x in data_requirement[0].keys())
    content_requirement = list(list(x.values()) for x in data_requirement)

    def __init__(self, username, membership = None):
        self.username = username
        self.membership = membership


    def show_benefit(self):
        benefit = [
            ["Platinum", "15%", "Benefit Gold + Silver + Cashback max. 30%"],
            ["Gold", "10%", "Benefit Silver + Voucher Ojek Online"],
            ["Silver", "8%", "Voucher Makanan"],
        ]

        benefit_headers = ["Membership", "Discount", "Another Benefit"]

        print('Paccommerce Membership Benefit\n')
        print(tabulate(benefit,benefit_headers,tablefmt ='fancy_grid',stralign = 'center'))

    def show_requirements(self):
        """
        Fungsi ini digunakan untuk mencetak requirement untuk mencapai benefit tier tertentu

        input: None
        """
        print("Detail requirement based on membership tier")
        print("")
        table = tabulate(self.content_requirement, headers=self.headers_requirement,tablefmt='simple')
        print(table)

    def predict_membership(self, expense,income):
        """
        Fungsi ini bertujuan untuk predict customer membership tier berdasar their income and expense

        input:
        - username(str)
        - expense(int)
        - income(int)
        """
        # self.username = username
        self.income = income
        self.expense = expense

        r = 0
        final_result = []
        for i in self.__class__.data_requirement:
            expense_threshold = i['Expense']
            income_threshold = i['Income']
            r = ((expense_threshold - self.expense)**2 + (income_threshold - self.income)**2)**0.5

            result = {i['Membership']: r}
            final_result.append(result)

        # self.membership = None

        init_val = 100
        for i in final_result:
            value = list(i.values())[0] # ngambil dari dictionary -- convert ke list (isinya 1 nilai doang) -- kemudian ambil yang ke 0
            key = list(i.keys())[0] # ngambil dari dictionary -- convert ke list (isinya 1 nilai doang) -- kemudian ambil yang ke 0
            if init_val > value:
                self.membership = key
                init_val = value
            else:
                pass

        return self.membership

    def calculate_price(self, membership, list_harga_barang):
        # self.membership = membership
        for data in self.__class__.data_membership:
            if data['Membership'] == membership:
                if type(data['Discount']) == str:
                    data['Discount'] = float(data['Discount'].replace("%","")) / 100
                total_harga = sum(list_harga_barang) * (1-data['Discount'])

        print(total_harga)
